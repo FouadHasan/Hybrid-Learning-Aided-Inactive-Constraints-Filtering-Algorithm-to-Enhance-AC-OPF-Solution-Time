{
 "cells": [
  {
   "cell_type": "code",
   "execution_count": 1,
   "metadata": {},
   "outputs": [
    {
     "name": "stdout",
     "output_type": "stream",
     "text": [
      "39\n",
      "46\n",
      "10\n"
     ]
    }
   ],
   "source": [
    "import numpy as np\n",
    "import pandas as pd\n",
    "\n",
    "#remove the row and column label from excel sheet before loading\n",
    "\n",
    "#dataset import for regressor\n",
    "X_dem=pd.read_excel(r'C:\\Users\\fhasan1\\dataset39.xlsx', header=None, sheet_name=0)#demand data\n",
    "y_gen=pd.read_excel(r'C:\\Users\\fhasan1\\dataset39.xlsx', header=None, sheet_name=1)#generation data\n",
    "\n",
    "#Changing pandas dataframe to numpy array\n",
    "X_dem = X_dem.to_numpy()\n",
    "y_gen = y_gen.to_numpy()\n",
    "\n",
    "# load new voltage and brnach status dataset for classification\n",
    "y_bus=pd.read_excel(r'C:\\Users\\fhasan1\\dataset39.xlsx', header=None, sheet_name=2)#outputbus\n",
    "y_branch=pd.read_excel(r'C:\\Users\\fhasan1\\dataset39.xlsx', header=None, sheet_name=3)#outputbranch\n",
    "\n",
    "#Changing pandas dataframe to numpy array\n",
    "y_bus = y_bus.to_numpy()\n",
    "y_branch = y_branch.to_numpy()\n",
    "\n",
    "# Generator bus indices\n",
    "Gen_index=pd.read_excel(r'C:\\Users\\fhasan1\\dataset39.xlsx', header=None, sheet_name=4)\n",
    "Gen_index=np.array(Gen_index)\n",
    "\n",
    "# Loading Index_of_nonzero_nodal_demand\n",
    "load_index=pd.read_excel(r'C:\\Users\\fhasan1\\dataset39.xlsx', header=None, sheet_name=5)\n",
    "load_index=np.array(load_index)\n",
    "load_index=load_index-1 #as pyhton starts counting from zero\n",
    "load_index=load_index.T\n",
    "\n",
    "#number bus branch and gen\n",
    "nb=np.size(y_bus,1)#bus\n",
    "nl=np.size(y_branch,1)#branch\n",
    "ng=len(Gen_index)#gen\n",
    "\n",
    "print(nb)\n",
    "print(nl)\n",
    "print(ng)"
   ]
  },
  {
   "cell_type": "code",
   "execution_count": 2,
   "metadata": {},
   "outputs": [
    {
     "name": "stdout",
     "output_type": "stream",
     "text": [
      "(4882, 78)\n",
      "(4882, 20)\n",
      "(4882, 39)\n",
      "(4882, 46)\n",
      "(10, 1)\n",
      "(1, 42)\n"
     ]
    }
   ],
   "source": [
    "#verifying the size of datasets\n",
    "print(X_dem.shape)\n",
    "print(y_gen.shape)\n",
    "print(y_bus.shape)\n",
    "print(y_branch.shape)\n",
    "print(Gen_index.shape)\n",
    "print(load_index.shape)"
   ]
  },
  {
   "cell_type": "code",
   "execution_count": 3,
   "metadata": {},
   "outputs": [
    {
     "name": "stdout",
     "output_type": "stream",
     "text": [
      "(2000, 78)\n",
      "(2000, 20)\n"
     ]
    }
   ],
   "source": [
    "#dataset for regressor training\n",
    "X_regressor=X_dem[0:2000,0:]\n",
    "y_regressor=y_gen[0:2000,0:]\n",
    "print(X_regressor.shape)\n",
    "print(y_regressor.shape)"
   ]
  },
  {
   "cell_type": "code",
   "execution_count": 4,
   "metadata": {},
   "outputs": [
    {
     "name": "stdout",
     "output_type": "stream",
     "text": [
      "(2000, 42)\n"
     ]
    }
   ],
   "source": [
    "#Filtering zeros from demand\n",
    "X_regressor=X_regressor[:,load_index[0,0:]]\n",
    "print(X_regressor.shape)"
   ]
  },
  {
   "cell_type": "code",
   "execution_count": 5,
   "metadata": {},
   "outputs": [],
   "source": [
    "#Train test split of model\n",
    "from sklearn.model_selection import train_test_split\n",
    "X_trainG,X_testG,y_trainG,y_testG = train_test_split(X_regressor,y_regressor,test_size = 0.1,random_state = 0)"
   ]
  },
  {
   "cell_type": "code",
   "execution_count": 6,
   "metadata": {},
   "outputs": [
    {
     "name": "stderr",
     "output_type": "stream",
     "text": [
      "Using TensorFlow backend.\n"
     ]
    }
   ],
   "source": [
    "import keras\n",
    "from keras.models import Sequential\n",
    "from keras.layers import Dense"
   ]
  },
  {
   "cell_type": "code",
   "execution_count": 7,
   "metadata": {},
   "outputs": [],
   "source": [
    "modelG = Sequential()\n",
    "modelG.add(Dense(256, input_dim=np.size(X_regressor,1), activation='relu'))\n",
    "modelG.add(Dense(ng*2, activation='linear'))\n",
    "\n",
    "modelG.compile(loss='mse', optimizer='adam', metrics=['mse','mae'])"
   ]
  },
  {
   "cell_type": "code",
   "execution_count": 8,
   "metadata": {},
   "outputs": [],
   "source": [
    "historyG = modelG.fit(X_trainG, y_trainG, epochs=1000, batch_size=100,verbose=0,validation_split=0.2)"
   ]
  },
  {
   "cell_type": "code",
   "execution_count": 9,
   "metadata": {},
   "outputs": [
    {
     "name": "stdout",
     "output_type": "stream",
     "text": [
      "dict_keys(['val_loss', 'val_mse', 'val_mae', 'loss', 'mse', 'mae'])\n"
     ]
    },
    {
     "data": {
      "text/plain": [
       "<Figure size 640x480 with 1 Axes>"
      ]
     },
     "metadata": {},
     "output_type": "display_data"
    }
   ],
   "source": [
    "print(historyG.history.keys())\n",
    "# \"Loss\"\n",
    "\n",
    "import matplotlib.pyplot as plt\n",
    "\n",
    "plt.plot(historyG.history['loss'])\n",
    "plt.plot(historyG.history['val_loss'])\n",
    "plt.title('Rgression learners loss')\n",
    "plt.ylabel('loss')\n",
    "plt.xlabel('epoch')\n",
    "plt.legend(['train', 'validation'], loc='upper right')\n",
    "plt.show()"
   ]
  },
  {
   "cell_type": "code",
   "execution_count": 10,
   "metadata": {},
   "outputs": [
    {
     "name": "stdout",
     "output_type": "stream",
     "text": [
      "28.01431919848996\n"
     ]
    }
   ],
   "source": [
    "# testing the trained regressor\n",
    "import math\n",
    "from sklearn.metrics import mean_squared_error\n",
    "\n",
    "# Generation prediction \n",
    "y_predG=modelG.predict(X_testG)\n",
    "\n",
    "RMSE=[]\n",
    "\n",
    "for x in range(np.size(X_testG,0)): \n",
    "    MSE=mean_squared_error(y_testG[x,:], y_predG[x,:])\n",
    "    RMSE.append(math.sqrt(MSE))\n",
    "    \n",
    "mean_RMSE=sum(RMSE)/len(RMSE)\n",
    "print(mean_RMSE)"
   ]
  },
  {
   "cell_type": "code",
   "execution_count": 11,
   "metadata": {},
   "outputs": [
    {
     "name": "stdout",
     "output_type": "stream",
     "text": [
      "(2000, 78)\n",
      "(2000, 39)\n",
      "(2000, 46)\n"
     ]
    }
   ],
   "source": [
    "#dataset for classifier trainig\n",
    "X_classifier=X_dem[2000:4000,0:]\n",
    "y_classifier_bus=y_bus[2000:4000,0:]\n",
    "y_classifier_branch=y_branch[2000:4000,0:]\n",
    "print(X_classifier.shape)\n",
    "print(y_classifier_bus.shape)\n",
    "print(y_classifier_branch.shape)"
   ]
  },
  {
   "cell_type": "code",
   "execution_count": 12,
   "metadata": {},
   "outputs": [
    {
     "name": "stdout",
     "output_type": "stream",
     "text": [
      "(2000, 42)\n",
      "(2000, 78)\n"
     ]
    }
   ],
   "source": [
    "# Generation prediction\n",
    "X_classifier_dem=np.copy(X_classifier)\n",
    "X_classifier_dem=X_classifier_dem[:,load_index[0,0:]]  # ~ is an element-wise inversion\n",
    "\n",
    "y_predG=modelG.predict(X_classifier_dem)\n",
    "\n",
    "print(X_classifier_dem.shape)\n",
    "print(X_classifier.shape)"
   ]
  },
  {
   "cell_type": "code",
   "execution_count": 13,
   "metadata": {},
   "outputs": [],
   "source": [
    "#converting (ng*1) to (nb*1) matrix\n",
    "#As pyhton indexing start from zero\n",
    "Gen_index=Gen_index-1\n",
    "\n",
    "y_predG_temp=np.zeros([np.size(X_classifier,0),nb*2], dtype = int)\n",
    "\n",
    "for s in range(np.size(X_classifier,0)):\n",
    "    for i in range(ng):    \n",
    "        y_predG_temp[s,Gen_index[i]]=y_predG[s,i]\n",
    "        y_predG_temp[s,Gen_index[i]+nb]=y_predG[s,i+ng] #ng=10"
   ]
  },
  {
   "cell_type": "code",
   "execution_count": 14,
   "metadata": {},
   "outputs": [
    {
     "data": {
      "text/plain": [
       "(2000, 78)"
      ]
     },
     "execution_count": 14,
     "metadata": {},
     "output_type": "execute_result"
    }
   ],
   "source": [
    "#forming net injection vectors\n",
    "X_NI=y_predG_temp-X_classifier\n",
    "X_NI.shape"
   ]
  },
  {
   "cell_type": "code",
   "execution_count": 15,
   "metadata": {},
   "outputs": [],
   "source": [
    "#Train test split of model\n",
    "from sklearn.model_selection import train_test_split\n",
    "# model for voltage\n",
    "X_trainV,X_testV,y_trainV,y_testV = train_test_split(X_NI,y_classifier_bus,test_size = 0.1,random_state = 0)\n",
    "# model for branch\n",
    "X_trainB,X_testB,y_trainB,y_testB = train_test_split(X_NI,y_classifier_branch,test_size = 0.1,random_state = 0)"
   ]
  },
  {
   "cell_type": "code",
   "execution_count": 16,
   "metadata": {},
   "outputs": [],
   "source": [
    "#bus slassifier model\n",
    "modelV = Sequential()\n",
    "modelV.add(Dense(256, input_dim=np.size(X_NI,1), activation='sigmoid'))\n",
    "modelV.add(Dense(nb, activation='softmax'))\n",
    "modelV.compile(loss='binary_crossentropy', optimizer='adam', metrics=['accuracy'])\n",
    "\n",
    "#branch slassifier model\n",
    "modelB = Sequential()\n",
    "modelB.add(Dense(256, input_dim=np.size(X_NI,1), activation='sigmoid'))\n",
    "modelB.add(Dense(nl, activation='softmax'))\n",
    "modelB.compile(loss='binary_crossentropy', optimizer='adam', metrics=['accuracy'])"
   ]
  },
  {
   "cell_type": "code",
   "execution_count": 17,
   "metadata": {},
   "outputs": [],
   "source": [
    "historyV = modelV.fit(X_trainV, y_trainV, epochs=1000, batch_size=100,verbose=0,validation_split=0.2)\n",
    "historyB = modelB.fit(X_trainB, y_trainB, epochs=1000, batch_size=100,verbose=0,validation_split=0.2)"
   ]
  },
  {
   "cell_type": "code",
   "execution_count": 18,
   "metadata": {},
   "outputs": [
    {
     "name": "stdout",
     "output_type": "stream",
     "text": [
      "dict_keys(['val_loss', 'val_accuracy', 'loss', 'accuracy'])\n"
     ]
    },
    {
     "data": {
      "image/png": "[encoded data removed]",
      "text/plain": [
       "<Figure size 432x288 with 1 Axes>"
      ]
     },
     "metadata": {
      "needs_background": "light"
     },
     "output_type": "display_data"
    }
   ],
   "source": [
    "print(historyV.history.keys())\n",
    "# \"Loss\"\n",
    "\n",
    "import matplotlib.pyplot as plt\n",
    "\n",
    "plt.plot(historyB.history['loss'])\n",
    "plt.plot(historyB.history['val_loss'])\n",
    "plt.plot(historyB.history['accuracy'])\n",
    "plt.title('Voltage classification loss')\n",
    "plt.ylabel('loss')\n",
    "plt.xlabel('epoch')\n",
    "plt.legend(['train', 'validation', 'accuracy'], loc='upper right')\n",
    "plt.show()"
   ]
  },
  {
   "cell_type": "code",
   "execution_count": 19,
   "metadata": {},
   "outputs": [
    {
     "name": "stdout",
     "output_type": "stream",
     "text": [
      "dict_keys(['val_loss', 'val_accuracy', 'loss', 'accuracy'])\n"
     ]
    },
    {
     "data": {
      "image/png": "[encoded data removed]",
      "text/plain": [
       "<Figure size 432x288 with 1 Axes>"
      ]
     },
     "metadata": {
      "needs_background": "light"
     },
     "output_type": "display_data"
    }
   ],
   "source": [
    "print(historyB.history.keys())\n",
    "# \"Loss\"\n",
    "\n",
    "import matplotlib.pyplot as plt\n",
    "\n",
    "plt.plot(historyB.history['loss'])\n",
    "plt.plot(historyB.history['val_loss'])\n",
    "plt.plot(historyB.history['accuracy'])\n",
    "plt.title('Branch classification loss')\n",
    "plt.ylabel('loss')\n",
    "plt.xlabel('epoch')\n",
    "plt.legend(['train', 'validation', 'accuracy'], loc='upper right')\n",
    "plt.show()"
   ]
  },
  {
   "cell_type": "code",
   "execution_count": 20,
   "metadata": {},
   "outputs": [
    {
     "name": "stdout",
     "output_type": "stream",
     "text": [
      "(200, 78)\n",
      "(200, 78)\n"
     ]
    }
   ],
   "source": [
    "y_predV=modelV.predict(X_testV)\n",
    "y_predB=modelB.predict(X_testB)\n",
    "print(X_testB.shape)\n",
    "print(X_testV.shape)"
   ]
  },
  {
   "cell_type": "code",
   "execution_count": 21,
   "metadata": {},
   "outputs": [
    {
     "name": "stdout",
     "output_type": "stream",
     "text": [
      "[[5949  689]\n",
      " [  16 1146]]\n",
      "[[5448 1190]\n",
      " [   2 1160]]\n"
     ]
    }
   ],
   "source": [
    "from sklearn.metrics import confusion_matrix\n",
    "\n",
    "#testing the trained voltage classifier\n",
    "y_testV=np.reshape(y_testV,np.size(X_testV,0)*nb)\n",
    "y_predV=np.reshape(y_predV,np.size(X_testV,0)*nb)\n",
    "\n",
    "y_predV1=np.copy(y_predV)\n",
    "y_predV2=np.copy(y_predV)\n",
    "\n",
    "y_predV1[y_predV1 >= 0.01] = 1\n",
    "y_predV1[y_predV1 < 0.01] = 0\n",
    "print(confusion_matrix(y_testV, y_predV1))\n",
    "\n",
    "y_predV2[y_predV2 >= 0.001] = 1\n",
    "y_predV2[y_predV2 < 0.001] = 0\n",
    "print(confusion_matrix(y_testV, y_predV2))"
   ]
  },
  {
   "cell_type": "code",
   "execution_count": 22,
   "metadata": {},
   "outputs": [
    {
     "name": "stdout",
     "output_type": "stream",
     "text": [
      "[[8799    9]\n",
      " [   1  391]]\n",
      "[[8799    9]\n",
      " [   1  391]]\n"
     ]
    }
   ],
   "source": [
    "#testing the trained branch classifier\n",
    "y_testB=np.reshape(y_testB,np.size(X_testB,0)*nl)\n",
    "y_predB=np.reshape(y_predB,np.size(X_testB,0)*nl)\n",
    "\n",
    "y_predB1=np.copy(y_predB)\n",
    "y_predB2=np.copy(y_predB)\n",
    "\n",
    "y_predB1[y_predB1 >= 0.01] = 1\n",
    "y_predB1[y_predB1 < 0.01] = 0\n",
    "print(confusion_matrix(y_testB, y_predB1))\n",
    "\n",
    "y_predB2[y_predB2 >= 0.001] = 1\n",
    "y_predB2[y_predB2 < 0.001] = 0\n",
    "print(confusion_matrix(y_testB, y_predB2))"
   ]
  },
  {
   "cell_type": "code",
   "execution_count": 23,
   "metadata": {},
   "outputs": [
    {
     "name": "stdout",
     "output_type": "stream",
     "text": [
      "(882, 78)\n",
      "(882, 20)\n",
      "(882, 39)\n",
      "(882, 46)\n"
     ]
    }
   ],
   "source": [
    "#Final testing\n",
    "#dataset for final testing\n",
    "X_test_dem=X_dem[4000:,0:]\n",
    "y_test_gen =y_gen[4000:,0:]\n",
    "y_test_bus=y_bus[4000:,0:]\n",
    "y_test_branch=y_branch[4000:,0:]\n",
    "print(X_test_dem.shape)\n",
    "print(y_test_gen.shape)\n",
    "print(y_test_bus.shape)\n",
    "print(y_test_branch.shape)"
   ]
  },
  {
   "cell_type": "code",
   "execution_count": 24,
   "metadata": {},
   "outputs": [
    {
     "name": "stdout",
     "output_type": "stream",
     "text": [
      "(882, 78)\n",
      "(882, 42)\n"
     ]
    }
   ],
   "source": [
    "#Filtering zeros from demand\n",
    "X_test_dem_temp=X_test_dem[:,load_index[0,0:]]\n",
    "\n",
    "print(X_test_dem.shape)\n",
    "print(X_test_dem_temp.shape)\n",
    "\n",
    "# Generation prediction \n",
    "y_predG=modelG.predict(X_test_dem_temp)\n",
    "\n",
    "#converting (ng*1) to (nb*1) matrix\n",
    "y_predG_temp=np.zeros([np.size(X_test_dem,0),nb*2], dtype = int)\n",
    "for s in range(np.size(X_test_dem,0)):\n",
    "    for i in range(ng):    \n",
    "        y_predG_temp[s,Gen_index[i]]=y_predG[s,i]\n",
    "        y_predG_temp[s,Gen_index[i]+nb]=y_predG[s,i+ng] \n",
    "\n",
    "#forming net injection vectors\n",
    "X_NI_test=y_predG_temp-X_test_dem\n",
    "\n",
    "# bus and branch prediction \n",
    "y_predV=modelV.predict(X_NI_test)\n",
    "y_predB=modelB.predict(X_NI_test)"
   ]
  },
  {
   "cell_type": "code",
   "execution_count": 25,
   "metadata": {},
   "outputs": [
    {
     "name": "stdout",
     "output_type": "stream",
     "text": [
      "27.5781542925276\n",
      "[[26236  3122]\n",
      " [   55  4985]]\n",
      "[[24086  5272]\n",
      " [   14  5026]]\n",
      "[[38807    25]\n",
      " [    1  1739]]\n",
      "[[38807    25]\n",
      " [    1  1739]]\n"
     ]
    }
   ],
   "source": [
    "# testing the trained regressor\n",
    "import math\n",
    "from sklearn.metrics import mean_squared_error\n",
    "\n",
    "RMSE=[]\n",
    "for x in range(np.size(X_test_dem,0)): \n",
    "    MSE=mean_squared_error(y_test_gen[x,:], y_predG[x,:])\n",
    "    RMSE.append(math.sqrt(MSE))\n",
    "    \n",
    "mean_RMSE=sum(RMSE)/len(RMSE)\n",
    "print(mean_RMSE)\n",
    "\n",
    "#testing the trained voltage classifier\n",
    "from sklearn.metrics import confusion_matrix\n",
    "\n",
    "y_testV=np.reshape(y_test_bus,np.size(X_test_dem,0)*nb)\n",
    "y_predV=np.reshape(y_predV,np.size(X_test_dem,0)*nb)\n",
    "\n",
    "y_predV1=np.copy(y_predV)\n",
    "y_predV2=np.copy(y_predV)\n",
    "\n",
    "y_predV1[y_predV1 >= 0.01] = 1\n",
    "y_predV1[y_predV1 < 0.01] = 0\n",
    "print(confusion_matrix(y_testV, y_predV1))\n",
    "\n",
    "y_predV2[y_predV2 >= 0.001] = 1\n",
    "y_predV2[y_predV2 < 0.001] = 0\n",
    "print(confusion_matrix(y_testV, y_predV2))\n",
    "\n",
    "#testing the trained branch classifier\n",
    "y_testB=np.reshape(y_test_branch,np.size(X_test_dem,0)*nl)\n",
    "y_predB=np.reshape(y_predB,np.size(X_test_dem,0)*nl)\n",
    "\n",
    "y_predB1=np.copy(y_predB)\n",
    "y_predB2=np.copy(y_predB)\n",
    "\n",
    "y_predB1[y_predB1 >= 0.01] = 1\n",
    "y_predB1[y_predB1 < 0.01] = 0\n",
    "print(confusion_matrix(y_testB, y_predB1))\n",
    "\n",
    "y_predB2[y_predB2 >= 0.001] = 1\n",
    "y_predB2[y_predB2 < 0.001] = 0\n",
    "print(confusion_matrix(y_testB, y_predB2))"
   ]
  },
  {
   "cell_type": "code",
   "execution_count": 26,
   "metadata": {},
   "outputs": [],
   "source": [
    "#saving the trained model\n",
    "modelG.save(\"modelG_39.h5\")\n",
    "modelV.save(\"modelV_39.h5\")\n",
    "modelB.save(\"modelB_39.h5\")"
   ]
  },
  {
   "cell_type": "code",
   "execution_count": null,
   "metadata": {},
   "outputs": [],
   "source": []
  },
  {
   "cell_type": "code",
   "execution_count": null,
   "metadata": {},
   "outputs": [],
   "source": []
  }
 ],
 "metadata": {
  "kernelspec": {
   "display_name": "Python 3",
   "language": "python",
   "name": "python3"
  },
  "language_info": {
   "codemirror_mode": {
    "name": "ipython",
    "version": 3
   },
   "file_extension": ".py",
   "mimetype": "text/x-python",
   "name": "python",
   "nbconvert_exporter": "python",
   "pygments_lexer": "ipython3",
   "version": "3.7.3"
  }
 },
 "nbformat": 4,
 "nbformat_minor": 2
}
