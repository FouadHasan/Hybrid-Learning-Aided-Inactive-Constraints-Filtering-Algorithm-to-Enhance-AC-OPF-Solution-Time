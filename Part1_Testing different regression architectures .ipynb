{
 "cells": [
  {
   "cell_type": "code",
   "execution_count": 2,
   "metadata": {},
   "outputs": [
    {
     "name": "stdout",
     "output_type": "stream",
     "text": [
      "(4882, 78)\n",
      "(4882, 20)\n"
     ]
    }
   ],
   "source": [
    "import numpy as np\n",
    "import pandas as pd\n",
    "\n",
    "#remove the row and column label from excel sheet before loading\n",
    "\n",
    "#dataset import for regressor\n",
    "X_dem=pd.read_excel(r'C:\\Users\\fhasan1\\dataset39.xlsx', header=None, sheet_name=0)\n",
    "y_gen=pd.read_excel(r'C:\\Users\\fhasan1\\dataset39.xlsx', header=None, sheet_name=1)\n",
    "\n",
    "#Changing pandas dataframe to numpy array\n",
    "X_dem = X_dem.to_numpy()\n",
    "y_gen = y_gen.to_numpy()\n",
    "\n",
    "# Load bus position\n",
    "load_index=pd.read_excel(r'C:\\Users\\fhasan1\\dataset39.xlsx', header=None, sheet_name=5)\n",
    "load_index=np.array(load_index)\n",
    "\n",
    "print(X_dem.shape)\n",
    "print(y_gen.shape)"
   ]
  },
  {
   "cell_type": "code",
   "execution_count": 3,
   "metadata": {},
   "outputs": [
    {
     "name": "stdout",
     "output_type": "stream",
     "text": [
      "(4882, 42)\n"
     ]
    }
   ],
   "source": [
    "#Filtering zeros from demand\n",
    "\n",
    "load_index=load_index-1\n",
    "load_index=load_index.T\n",
    "X_dem_temp=X_dem[:,load_index[0,0:]]\n",
    "print(X_dem_temp.shape)"
   ]
  },
  {
   "cell_type": "code",
   "execution_count": 4,
   "metadata": {},
   "outputs": [
    {
     "name": "stdout",
     "output_type": "stream",
     "text": [
      "(4882, 42)\n"
     ]
    }
   ],
   "source": [
    "print(X_dem_temp.shape)"
   ]
  },
  {
   "cell_type": "code",
   "execution_count": 5,
   "metadata": {},
   "outputs": [],
   "source": [
    "#Train test split of model\n",
    "from sklearn.model_selection import train_test_split\n",
    "X_train,X_test,y_train,y_test = train_test_split(X_dem_temp,y_gen,test_size = 0.5,random_state = 0)"
   ]
  },
  {
   "cell_type": "code",
   "execution_count": 6,
   "metadata": {},
   "outputs": [
    {
     "name": "stderr",
     "output_type": "stream",
     "text": [
      "Using TensorFlow backend.\n"
     ]
    }
   ],
   "source": [
    "import keras\n",
    "from keras.models import Sequential\n",
    "from keras.layers import Dense"
   ]
  },
  {
   "cell_type": "code",
   "execution_count": 7,
   "metadata": {},
   "outputs": [],
   "source": [
    "model1 = Sequential()\n",
    "model1.add(Dense(256, input_dim=np.size(X_dem_temp,1), activation='relu'))\n",
    "model1.add(Dense(np.size(y_gen,1), activation='linear'))\n",
    "\n",
    "model2 = Sequential()\n",
    "model2.add(Dense(256, input_dim=np.size(X_dem_temp,1), activation='relu'))\n",
    "model2.add(Dense(256, activation='relu'))\n",
    "model2.add(Dense(np.size(y_gen,1), activation='linear'))\n",
    "\n",
    "model3 = Sequential()\n",
    "model3.add(Dense(256, input_dim=np.size(X_dem_temp,1), activation='relu'))\n",
    "model3.add(Dense(256, activation='relu'))\n",
    "model3.add(Dense(256, activation='relu'))\n",
    "model3.add(Dense(np.size(y_gen,1), activation='linear'))\n",
    "\n",
    "model4 = Sequential()\n",
    "model4.add(Dense(256, input_dim=np.size(X_dem_temp,1), activation='relu'))\n",
    "model4.add(Dense(256, activation='relu'))\n",
    "model4.add(Dense(256, activation='relu'))\n",
    "model4.add(Dense(256, activation='relu'))\n",
    "model4.add(Dense(np.size(y_gen,1), activation='linear'))"
   ]
  },
  {
   "cell_type": "code",
   "execution_count": 8,
   "metadata": {},
   "outputs": [],
   "source": [
    "model1.compile(loss='mse', optimizer='adam', metrics=['mse','mae'])\n",
    "model2.compile(loss='mse', optimizer='adam', metrics=['mse','mae'])\n",
    "model3.compile(loss='mse', optimizer='adam', metrics=['mse','mae'])\n",
    "model4.compile(loss='mse', optimizer='adam', metrics=['mse','mae'])"
   ]
  },
  {
   "cell_type": "code",
   "execution_count": 9,
   "metadata": {},
   "outputs": [],
   "source": [
    "history1 = model1.fit(X_train, y_train, epochs=1000, batch_size=100,verbose=0,validation_split=0.2)\n",
    "history2 = model2.fit(X_train, y_train, epochs=1000, batch_size=100,verbose=0,validation_split=0.2)\n",
    "history3 = model3.fit(X_train, y_train, epochs=1000, batch_size=100,verbose=0,validation_split=0.2)\n",
    "history4 = model4.fit(X_train, y_train, epochs=1000, batch_size=100,verbose=0,validation_split=0.2)"
   ]
  },
  {
   "cell_type": "code",
   "execution_count": 10,
   "metadata": {},
   "outputs": [
    {
     "name": "stdout",
     "output_type": "stream",
     "text": [
      "dict_keys(['val_loss', 'val_mse', 'val_mae', 'loss', 'mse', 'mae'])\n"
     ]
    },
    {
     "data": {
      "text/plain": [
       "<Figure size 640x480 with 1 Axes>"
      ]
     },
     "metadata": {},
     "output_type": "display_data"
    },
    {
     "name": "stdout",
     "output_type": "stream",
     "text": [
      "dict_keys(['val_loss', 'val_mse', 'val_mae', 'loss', 'mse', 'mae'])\n"
     ]
    },
    {
     "data": {
      "text/plain": [
       "<Figure size 640x480 with 1 Axes>"
      ]
     },
     "metadata": {},
     "output_type": "display_data"
    },
    {
     "name": "stdout",
     "output_type": "stream",
     "text": [
      "dict_keys(['val_loss', 'val_mse', 'val_mae', 'loss', 'mse', 'mae'])\n"
     ]
    },
    {
     "data": {
      "text/plain": [
       "<Figure size 640x480 with 1 Axes>"
      ]
     },
     "metadata": {},
     "output_type": "display_data"
    },
    {
     "name": "stdout",
     "output_type": "stream",
     "text": [
      "dict_keys(['val_loss', 'val_mse', 'val_mae', 'loss', 'mse', 'mae'])\n"
     ]
    },
    {
     "data": {
      "text/plain": [
       "<Figure size 640x480 with 1 Axes>"
      ]
     },
     "metadata": {},
     "output_type": "display_data"
    }
   ],
   "source": [
    "print(history1.history.keys())\n",
    "# \"Loss\"\n",
    "import matplotlib.pyplot as plt\n",
    "\n",
    "plt.plot(history1.history['loss'])\n",
    "plt.plot(history1.history['val_loss'])\n",
    "plt.title('model loss')\n",
    "plt.ylabel('loss')\n",
    "plt.xlabel('epoch')\n",
    "plt.legend(['train', 'validation'], loc='upper right')\n",
    "plt.show()\n",
    "\n",
    "print(history2.history.keys())\n",
    "# \"Loss\"\n",
    "plt.plot(history2.history['loss'])\n",
    "plt.plot(history2.history['val_loss'])\n",
    "plt.title('model loss')\n",
    "plt.ylabel('loss')\n",
    "plt.xlabel('epoch')\n",
    "plt.legend(['train', 'validation'], loc='upper right')\n",
    "plt.show()\n",
    "\n",
    "print(history3.history.keys())\n",
    "# \"Loss\"\n",
    "plt.plot(history3.history['loss'])\n",
    "plt.plot(history3.history['val_loss'])\n",
    "plt.title('model loss')\n",
    "plt.ylabel('loss')\n",
    "plt.xlabel('epoch')\n",
    "plt.legend(['train', 'validation'], loc='upper right')\n",
    "plt.show()\n",
    "\n",
    "print(history4.history.keys())\n",
    "# \"Loss\"\n",
    "plt.plot(history4.history['loss'])\n",
    "plt.plot(history4.history['val_loss'])\n",
    "plt.title('model loss')\n",
    "plt.ylabel('loss')\n",
    "plt.xlabel('epoch')\n",
    "plt.legend(['train', 'validation'], loc='upper right')\n",
    "plt.show()"
   ]
  },
  {
   "cell_type": "code",
   "execution_count": 11,
   "metadata": {},
   "outputs": [],
   "source": [
    "#prediction \n",
    "y_pred1=model1.predict(X_test)\n",
    "y_pred2=model2.predict(X_test)\n",
    "y_pred3=model3.predict(X_test)\n",
    "y_pred4=model4.predict(X_test)"
   ]
  },
  {
   "cell_type": "code",
   "execution_count": 12,
   "metadata": {},
   "outputs": [
    {
     "name": "stdout",
     "output_type": "stream",
     "text": [
      "27.911747753873474\n",
      "27.67897084825705\n",
      "32.263516551687474\n",
      "30.945059675328206\n"
     ]
    }
   ],
   "source": [
    "# RMSE comparison for different architecture\n",
    "import math\n",
    "from sklearn.metrics import mean_squared_error\n",
    "\n",
    "RMSE1=[]\n",
    "for x in range(np.size(X_test,0)): \n",
    "    MSE1=mean_squared_error(y_test[x,:], y_pred1[x,:])\n",
    "    RMSE1.append(math.sqrt(MSE1))  \n",
    "mean_RMSE1=sum(RMSE1)/len(RMSE1)\n",
    "print(mean_RMSE1)\n",
    "\n",
    "# RMSE comparison for different architecture\n",
    "RMSE2=[]\n",
    "for x in range(np.size(X_test,0)): \n",
    "    MSE2=mean_squared_error(y_test[x,:], y_pred2[x,:])\n",
    "    RMSE2.append(math.sqrt(MSE2))    \n",
    "mean_RMSE2=sum(RMSE2)/len(RMSE2)\n",
    "print(mean_RMSE2)\n",
    "\n",
    " # RMSE comparison for different architecture\n",
    "RMSE3=[]\n",
    "for x in range(np.size(X_test,0)): \n",
    "    MSE3=mean_squared_error(y_test[x,:], y_pred3[x,:])\n",
    "    RMSE3.append(math.sqrt(MSE3))   \n",
    "mean_RMSE3=sum(RMSE3)/len(RMSE3)\n",
    "print(mean_RMSE3)\n",
    "\n",
    "# RMSE comparison for different architecture\n",
    "RMSE4=[]\n",
    "for x in range(np.size(X_test,0)): \n",
    "    MSE4=mean_squared_error(y_test[x,:], y_pred4[x,:])\n",
    "    RMSE4.append(math.sqrt(MSE4))    \n",
    "mean_RMSE4=sum(RMSE4)/len(RMSE4)\n",
    "print(mean_RMSE4)"
   ]
  },
  {
   "cell_type": "code",
   "execution_count": null,
   "metadata": {},
   "outputs": [],
   "source": []
  },
  {
   "cell_type": "code",
   "execution_count": null,
   "metadata": {},
   "outputs": [],
   "source": []
  }
 ],
 "metadata": {
  "kernelspec": {
   "display_name": "Python 3",
   "language": "python",
   "name": "python3"
  },
  "language_info": {
   "codemirror_mode": {
    "name": "ipython",
    "version": 3
   },
   "file_extension": ".py",
   "mimetype": "text/x-python",
   "name": "python",
   "nbconvert_exporter": "python",
   "pygments_lexer": "ipython3",
   "version": "3.7.3"
  }
 },
 "nbformat": 4,
 "nbformat_minor": 2
}
