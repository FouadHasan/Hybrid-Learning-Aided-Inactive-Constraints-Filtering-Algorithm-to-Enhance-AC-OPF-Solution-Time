{
 "cells": [
  {
   "cell_type": "code",
   "execution_count": 1,
   "metadata": {},
   "outputs": [],
   "source": [
    "import numpy as np\n",
    "import pandas as pd\n",
    "import matplotlib.pyplot as plt\n",
    "\n",
    "import tensorflow as tf\n",
    "from tensorflow.keras.models import Sequential\n",
    "from tensorflow.keras.layers import Dense\n",
    "from tensorflow.keras.optimizers import Adam"
   ]
  },
  {
   "cell_type": "code",
   "execution_count": 2,
   "metadata": {},
   "outputs": [
    {
     "name": "stdout",
     "output_type": "stream",
     "text": [
      "1354\n",
      "1991\n",
      "260\n"
     ]
    }
   ],
   "source": [
    "#dataset import for regressor\n",
    "X_dem=pd.read_excel(r'C:\\Users\\fhasan1\\Dataset1354.xlsx', header=None, sheet_name=0)#demand data\n",
    "y_gen=pd.read_excel(r'C:\\Users\\fhasan1\\Dataset1354.xlsx', header=None, sheet_name=1)#generation data\n",
    "\n",
    "#Changing pandas dataframe to numpy array\n",
    "X_dem = X_dem.to_numpy()\n",
    "y_gen = y_gen.to_numpy()\n",
    "\n",
    "# load new voltage and brnach status dataset for classification\n",
    "y_bus=pd.read_excel(r'C:\\Users\\fhasan1\\Dataset1354.xlsx', header=None, sheet_name=2)#outputbus\n",
    "y_branch=pd.read_excel(r'C:\\Users\\fhasan1\\Dataset1354.xlsx', header=None, sheet_name=3)#outputbranch\n",
    "\n",
    "#Changing pandas dataframe to numpy array\n",
    "y_bus = y_bus.to_numpy()\n",
    "y_branch = y_branch.to_numpy()\n",
    "\n",
    "# Generator bus indices\n",
    "Gen_index=pd.read_excel(r'C:\\Users\\fhasan1\\Dataset1354.xlsx', header=None, sheet_name=4)\n",
    "Gen_index=np.array(Gen_index)\n",
    "\n",
    "# Loading Index_of_nonzero_nodal_demand\n",
    "load_index=pd.read_excel(r'C:\\Users\\fhasan1\\Dataset1354.xlsx', header=None, sheet_name=5)\n",
    "load_index=np.array(load_index)\n",
    "load_index=load_index-1 #as pyhton starts counting from zero\n",
    "load_index=load_index.T\n",
    "\n",
    "#number bus branch and gen\n",
    "nb=np.size(y_bus,1)#bus\n",
    "nl=np.size(y_branch,1)#branch\n",
    "ng=len(Gen_index)#gen\n",
    "\n",
    "print(nb)\n",
    "print(nl)\n",
    "print(ng)"
   ]
  },
  {
   "cell_type": "code",
   "execution_count": 3,
   "metadata": {},
   "outputs": [
    {
     "name": "stdout",
     "output_type": "stream",
     "text": [
      "(4200, 2708)\n",
      "(4200, 520)\n",
      "(4200, 1354)\n",
      "(4200, 1991)\n",
      "(260, 1)\n",
      "(1, 1332)\n"
     ]
    }
   ],
   "source": [
    "X_dem = np.array(X_dem, dtype=\"float32\")\n",
    "y_gen = np.array(y_gen, dtype=\"float32\")\n",
    "y_bus = np.array(y_bus, dtype=\"float32\")\n",
    "y_branch = np.array(y_branch, dtype=\"float32\")\n",
    "\n",
    "#verifying the size of datasets\n",
    "print(X_dem.shape)\n",
    "print(y_gen.shape)\n",
    "print(y_bus.shape)\n",
    "print(y_branch.shape)\n",
    "print(Gen_index.shape)\n",
    "print(load_index.shape)"
   ]
  },
  {
   "cell_type": "code",
   "execution_count": 4,
   "metadata": {},
   "outputs": [
    {
     "name": "stdout",
     "output_type": "stream",
     "text": [
      "(1500, 2708)\n",
      "(1500, 520)\n"
     ]
    }
   ],
   "source": [
    "#dataset for regressor training\n",
    "X_regressor=X_dem[0:1500,0:]\n",
    "y_regressor=y_gen[0:1500,0:]\n",
    "print(X_regressor.shape)\n",
    "print(y_regressor.shape)"
   ]
  },
  {
   "cell_type": "code",
   "execution_count": 5,
   "metadata": {},
   "outputs": [
    {
     "name": "stdout",
     "output_type": "stream",
     "text": [
      "(1500, 1332)\n"
     ]
    }
   ],
   "source": [
    "#Filtering zeros from demand\n",
    "X_regressor=X_regressor[:,load_index[0,0:]]           \n",
    "print(X_regressor.shape)"
   ]
  },
  {
   "cell_type": "code",
   "execution_count": 6,
   "metadata": {},
   "outputs": [],
   "source": [
    "from sklearn.preprocessing import MinMaxScaler\n",
    "xscaler = MinMaxScaler()\n",
    "yscaler = MinMaxScaler()\n",
    "#scaling\n",
    "X_regressor=xscaler.fit_transform(X_regressor)\n",
    "y_regressor=yscaler.fit_transform(y_regressor)"
   ]
  },
  {
   "cell_type": "code",
   "execution_count": 7,
   "metadata": {},
   "outputs": [],
   "source": [
    "#Train test split of model\n",
    "from sklearn.model_selection import train_test_split\n",
    "X_trainG,X_testG,y_trainG,y_testG = train_test_split(X_regressor,y_regressor,test_size = 0.001,random_state = 1,shuffle=True)"
   ]
  },
  {
   "cell_type": "code",
   "execution_count": 8,
   "metadata": {},
   "outputs": [],
   "source": [
    "modelG = Sequential()\n",
    "modelG.add(Dense(256, input_dim=np.size(X_regressor,1), activation='relu'))\n",
    "modelG.add(Dense(ng*2, activation='linear'))\n",
    "\n",
    "modelG.compile(loss='mse', optimizer='adam', metrics=['mse'])"
   ]
  },
  {
   "cell_type": "code",
   "execution_count": 9,
   "metadata": {},
   "outputs": [],
   "source": [
    "from tensorflow.keras.callbacks import EarlyStopping\n",
    "custom_early_stopping = EarlyStopping(\n",
    "    monitor='val_loss', \n",
    "    patience=100, \n",
    "    min_delta=0.001, \n",
    "    mode='min',\n",
    "    verbose=1\n",
    ")"
   ]
  },
  {
   "cell_type": "code",
   "execution_count": 10,
   "metadata": {},
   "outputs": [
    {
     "name": "stdout",
     "output_type": "stream",
     "text": [
      "Epoch 00167: early stopping\n"
     ]
    }
   ],
   "source": [
    "historyG = modelG.fit(X_trainG, y_trainG, epochs=500, batch_size=100,verbose=0,validation_split=0.2,\n",
    "                      callbacks=[custom_early_stopping])"
   ]
  },
  {
   "cell_type": "code",
   "execution_count": 11,
   "metadata": {},
   "outputs": [
    {
     "name": "stdout",
     "output_type": "stream",
     "text": [
      "dict_keys(['loss', 'mse', 'val_loss', 'val_mse'])\n"
     ]
    },
    {
     "data": {
      "image/png": "[encoded data removed]",
      "text/plain": [
       "<Figure size 432x288 with 1 Axes>"
      ]
     },
     "metadata": {
      "needs_background": "light"
     },
     "output_type": "display_data"
    }
   ],
   "source": [
    "print(historyG.history.keys())\n",
    "\n",
    "import matplotlib.pyplot as plt\n",
    "\n",
    "plt.plot(historyG.history['loss'])\n",
    "plt.plot(historyG.history['val_loss'])\n",
    "plt.title('Rgression learners loss')\n",
    "plt.ylabel('loss')\n",
    "plt.xlabel('epoch')\n",
    "plt.legend(['train', 'validation'], loc='upper right')\n",
    "plt.show()"
   ]
  },
  {
   "cell_type": "code",
   "execution_count": 12,
   "metadata": {},
   "outputs": [
    {
     "name": "stdout",
     "output_type": "stream",
     "text": [
      "(1500, 2708)\n",
      "(1500, 1354)\n",
      "(1500, 1991)\n"
     ]
    }
   ],
   "source": [
    "#dataset for classifier trainig\n",
    "X_classifier=X_dem[1500:3000,0:]\n",
    "y_classifier_bus=y_bus[1500:3000,0:]\n",
    "y_classifier_branch=y_branch[1500:3000,0:]\n",
    "print(X_classifier.shape)\n",
    "print(y_classifier_bus.shape)\n",
    "print(y_classifier_branch.shape)"
   ]
  },
  {
   "cell_type": "code",
   "execution_count": 13,
   "metadata": {},
   "outputs": [
    {
     "name": "stdout",
     "output_type": "stream",
     "text": [
      "(1500, 2708)\n",
      "(1500, 1332)\n"
     ]
    }
   ],
   "source": [
    "# Generation prediction\n",
    "X_classifier_dem=np.copy(X_classifier)\n",
    "X_classifier_dem=X_classifier_dem[:,load_index[0,0:]]  \n",
    "\n",
    "X_classifier_dem=xscaler.transform(X_classifier_dem)# scaling demand\n",
    "y_predG=modelG.predict(X_classifier_dem)\n",
    "y_predG=yscaler.inverse_transform(y_predG)# descaling gen output\n",
    "X_classifier_dem=xscaler.inverse_transform(X_classifier_dem)# descaling demand\n",
    "\n",
    "print(X_classifier.shape)\n",
    "print(X_classifier_dem.shape)"
   ]
  },
  {
   "cell_type": "code",
   "execution_count": 14,
   "metadata": {},
   "outputs": [],
   "source": [
    "#converting (ng*1) to (nb*1) matrix\n",
    "#As pyhton indexing start from zero\n",
    "Gen_index=Gen_index-1\n",
    "\n",
    "y_predG_temp=np.zeros([np.size(X_classifier,0),nb*2], dtype = int)\n",
    "\n",
    "for s in range(np.size(X_classifier,0)):\n",
    "    for i in range(ng):    \n",
    "        y_predG_temp[s,Gen_index[i]]=y_predG[s,i]\n",
    "        y_predG_temp[s,Gen_index[i]+nb]=y_predG[s,i+ng] #ng=10"
   ]
  },
  {
   "cell_type": "code",
   "execution_count": 15,
   "metadata": {},
   "outputs": [
    {
     "data": {
      "text/plain": [
       "(1500, 2708)"
      ]
     },
     "execution_count": 15,
     "metadata": {},
     "output_type": "execute_result"
    }
   ],
   "source": [
    "#forming net injection vectors\n",
    "X_NI=y_predG_temp-X_classifier\n",
    "#scaling net injection vectors\n",
    "NIscaler = MinMaxScaler()\n",
    "X_NI=NIscaler.fit_transform(X_NI)\n",
    "\n",
    "X_NI.shape"
   ]
  },
  {
   "cell_type": "code",
   "execution_count": 16,
   "metadata": {},
   "outputs": [],
   "source": [
    "#Train test split of model\n",
    "from sklearn.model_selection import train_test_split\n",
    "# model for voltage\n",
    "X_trainV,X_testV,y_trainV,y_testV = train_test_split(X_NI,y_classifier_bus,test_size = 0.001,random_state = 0,shuffle=True)\n",
    "# model for branch\n",
    "X_trainB,X_testB,y_trainB,y_testB = train_test_split(X_NI,y_classifier_branch,test_size = 0.001,random_state = 0,shuffle=True)"
   ]
  },
  {
   "cell_type": "code",
   "execution_count": 17,
   "metadata": {},
   "outputs": [],
   "source": [
    "import tensorflow.keras.backend as K\n",
    "\n",
    "def f2(y_true, y_pred):\n",
    "    y_pred = K.round(y_pred)\n",
    "    tp = K.sum(K.cast(y_true*y_pred, 'float'), axis=0)\n",
    "    tn = K.sum(K.cast((1-y_true)*(1-y_pred), 'float'), axis=0)\n",
    "    fp = K.sum(K.cast((1-y_true)*y_pred, 'float'), axis=0)\n",
    "    fn = K.sum(K.cast(y_true*(1-y_pred), 'float'), axis=0)\n",
    "    p = tp / (tp + fp + K.epsilon())\n",
    "    r = tp / (tp + fn + K.epsilon())\n",
    "    f2 = 5*p*r / (4*p+r+K.epsilon())\n",
    "    return K.mean(f2)\n",
    "\n",
    "def f2_loss(y_true, y_pred):\n",
    "    \n",
    "    tp = K.sum(K.cast(y_true*y_pred, 'float'), axis=0)\n",
    "    tn = K.sum(K.cast((1-y_true)*(1-y_pred), 'float'), axis=0)\n",
    "    fp = K.sum(K.cast((1-y_true)*y_pred, 'float'), axis=0)\n",
    "    fn = K.sum(K.cast(y_true*(1-y_pred), 'float'), axis=0)\n",
    "    p = tp / (tp + fp + K.epsilon())\n",
    "    r = tp / (tp + fn + K.epsilon())\n",
    "    f2 = 5*p*r / (4*p+r+K.epsilon())\n",
    "    return 1 - K.mean(f2)"
   ]
  },
  {
   "cell_type": "code",
   "execution_count": 18,
   "metadata": {},
   "outputs": [],
   "source": [
    "from tensorflow.keras.callbacks import EarlyStopping\n",
    "custom_early_stopping = EarlyStopping(\n",
    "    monitor='val_loss', \n",
    "    patience=100, \n",
    "    min_delta=0.00001, \n",
    "    mode='min',\n",
    "    verbose=1\n",
    ")"
   ]
  },
  {
   "cell_type": "code",
   "execution_count": 19,
   "metadata": {},
   "outputs": [],
   "source": [
    "#bus slassifier model\n",
    "modelV = Sequential()\n",
    "modelV.add(Dense(256, input_dim=np.size(X_NI,1), activation='relu'))\n",
    "modelV.add(Dense(nb, activation='sigmoid'))\n",
    "modelV.compile(loss=f2_loss, optimizer='adam', metrics=[f2])\n",
    "\n",
    "#branch slassifier model\n",
    "modelB = Sequential()\n",
    "modelB.add(Dense(256, input_dim=np.size(X_NI,1), activation='relu'))\n",
    "modelB.add(Dense(nl, activation='sigmoid'))\n",
    "modelB.compile(loss=f2_loss, optimizer='adam', metrics=[f2])"
   ]
  },
  {
   "cell_type": "code",
   "execution_count": 20,
   "metadata": {},
   "outputs": [
    {
     "name": "stdout",
     "output_type": "stream",
     "text": [
      "Epoch 00102: early stopping\n",
      "Epoch 00101: early stopping\n"
     ]
    }
   ],
   "source": [
    "historyV = modelV.fit(X_trainV, y_trainV, epochs=1000, batch_size=100,verbose=0,validation_split=0.2,callbacks=[custom_early_stopping])\n",
    "historyB = modelB.fit(X_trainB, y_trainB, epochs=1000, batch_size=100,verbose=0,validation_split=0.2,callbacks=[custom_early_stopping])"
   ]
  },
  {
   "cell_type": "code",
   "execution_count": 21,
   "metadata": {},
   "outputs": [
    {
     "name": "stdout",
     "output_type": "stream",
     "text": [
      "dict_keys(['loss', 'f2', 'val_loss', 'val_f2'])\n"
     ]
    },
    {
     "data": {
      "image/png": "[encoded data removed]",
      "text/plain": [
       "<Figure size 432x288 with 1 Axes>"
      ]
     },
     "metadata": {
      "needs_background": "light"
     },
     "output_type": "display_data"
    }
   ],
   "source": [
    "print(historyV.history.keys())\n",
    "\n",
    "import matplotlib.pyplot as plt\n",
    "\n",
    "plt.plot(historyB.history['loss'])\n",
    "plt.plot(historyB.history['val_loss'])\n",
    "#plt.plot(historyB.history['accuracy'])\n",
    "plt.title('Voltage classification loss')\n",
    "plt.ylabel('loss')\n",
    "plt.xlabel('epoch')\n",
    "plt.legend(['train', 'validation', 'accuracy'], loc='upper right')\n",
    "plt.show()"
   ]
  },
  {
   "cell_type": "code",
   "execution_count": 22,
   "metadata": {},
   "outputs": [
    {
     "name": "stdout",
     "output_type": "stream",
     "text": [
      "dict_keys(['loss', 'f2', 'val_loss', 'val_f2'])\n"
     ]
    },
    {
     "data": {
      "image/png": "[encoded data removed]",
      "text/plain": [
       "<Figure size 432x288 with 1 Axes>"
      ]
     },
     "metadata": {
      "needs_background": "light"
     },
     "output_type": "display_data"
    }
   ],
   "source": [
    "print(historyB.history.keys())\n",
    "\n",
    "import matplotlib.pyplot as plt\n",
    "\n",
    "plt.plot(historyB.history['loss'])\n",
    "plt.plot(historyB.history['val_loss'])\n",
    "#plt.plot(historyB.history['accuracy'])\n",
    "plt.title('Branch classification loss')\n",
    "plt.ylabel('loss')\n",
    "plt.xlabel('epoch')\n",
    "plt.legend(['train', 'validation', 'accuracy'], loc='upper right')\n",
    "plt.show()"
   ]
  },
  {
   "cell_type": "code",
   "execution_count": 23,
   "metadata": {},
   "outputs": [
    {
     "name": "stdout",
     "output_type": "stream",
     "text": [
      "(1200, 2708)\n",
      "(1200, 520)\n",
      "(1200, 1354)\n",
      "(1200, 1991)\n"
     ]
    }
   ],
   "source": [
    "#Final testing\n",
    "X_test_dem=X_dem[3000:,0:]\n",
    "y_test_gen =y_gen[3000:,0:]\n",
    "y_test_bus=y_bus[3000:,0:]\n",
    "y_test_branch=y_branch[3000:,0:]\n",
    "print(X_test_dem.shape)\n",
    "print(y_test_gen.shape)\n",
    "print(y_test_bus.shape)\n",
    "print(y_test_branch.shape)"
   ]
  },
  {
   "cell_type": "code",
   "execution_count": 24,
   "metadata": {},
   "outputs": [
    {
     "name": "stdout",
     "output_type": "stream",
     "text": [
      "(1200, 2708)\n",
      "(1200, 1332)\n"
     ]
    }
   ],
   "source": [
    "#Filtering zeros from demand\n",
    "X_test_dem_temp=X_test_dem[:,load_index[0,0:]]\n",
    "\n",
    "print(X_test_dem.shape)\n",
    "print(X_test_dem_temp.shape)\n",
    "\n",
    "# Generation prediction \n",
    "X_test_dem_temp=xscaler.transform(X_test_dem_temp)#scaling demand\n",
    "y_predG=modelG.predict(X_test_dem_temp)\n",
    "y_predG=yscaler.inverse_transform(y_predG)#descaling gen output\n",
    "X_test_dem_temp=xscaler.inverse_transform(X_test_dem_temp)#descaling demand\n",
    "\n",
    "#converting (ng*1) to (nb*1) matrix\n",
    "y_predG_temp=np.zeros([np.size(X_test_dem,0),nb*2], dtype = int)\n",
    "for s in range(np.size(X_test_dem,0)):\n",
    "    for i in range(ng):    \n",
    "        y_predG_temp[s,Gen_index[i]]=y_predG[s,i]\n",
    "        y_predG_temp[s,Gen_index[i]+nb]=y_predG[s,i+ng] \n",
    "\n",
    "#forming net injection vectors\n",
    "X_NI_test=y_predG_temp-X_test_dem\n",
    "X_NI_test=NIscaler.fit_transform(X_NI_test)#scaling net injection\n",
    "\n",
    "# bus and branch prediction \n",
    "y_predV=modelV.predict(X_NI_test)\n",
    "y_predB=modelB.predict(X_NI_test)"
   ]
  },
  {
   "cell_type": "code",
   "execution_count": 25,
   "metadata": {},
   "outputs": [
    {
     "name": "stdout",
     "output_type": "stream",
     "text": [
      "23.323976871238045\n"
     ]
    }
   ],
   "source": [
    "# testing the trained regressor\n",
    "import math\n",
    "from sklearn.metrics import mean_squared_error\n",
    "\n",
    "RMSE=[]\n",
    "for x in range(np.size(X_test_dem,0)): \n",
    "    MSE=mean_squared_error(y_test_gen[x,:], y_predG[x,:])\n",
    "    RMSE.append(math.sqrt(MSE))\n",
    "    \n",
    "mean_RMSE=sum(RMSE)/len(RMSE)\n",
    "print(mean_RMSE)"
   ]
  },
  {
   "cell_type": "code",
   "execution_count": 26,
   "metadata": {},
   "outputs": [
    {
     "name": "stdout",
     "output_type": "stream",
     "text": [
      "[[1557549   39280]\n",
      " [    588   27383]]\n",
      "0.00018094534711964548 0.0120876415558838 0.9793048375184638 0.008426575578532743 0.9998152649581189 0.410767592217572 0.9789782274498587 0.9878074104746387 0.9877314130969965\n"
     ]
    }
   ],
   "source": [
    "#testing the trained voltage classifier\n",
    "from sklearn.metrics import confusion_matrix\n",
    "\n",
    "y_testV=np.reshape(y_test_bus,np.size(X_test_dem,0)*nb)\n",
    "y_predV=np.reshape(y_predV,np.size(X_test_dem,0)*nb)\n",
    "\n",
    "y_predV1=np.copy(y_predV)\n",
    "\n",
    "y_predV1[y_predV1 >= 0.99] = 1\n",
    "y_predV1[y_predV1 < 0.99] = 0\n",
    "\n",
    "CM=confusion_matrix(y_testV, y_predV1)\n",
    "\n",
    "TN = CM[0][0]\n",
    "FN = CM[1][0]\n",
    "TP = CM[1][1]\n",
    "FP = CM[0][1]\n",
    "\n",
    "s=np.size(X_test_dem,0)# no of test scenario\n",
    "c=s*nb*2 #total constraints is double for upper and lower limit\n",
    "TN=c-(TP+FP+FN)\n",
    "CM[0][0]=TN\n",
    "print(CM)\n",
    "\n",
    "FNP=(FN)/(TP+TN+FP+FN)\n",
    "FPP=(FP)/(TP+TN+FP+FN)\n",
    "TNP=(TN)/(TP+TN+FP+FN)\n",
    "TPP=(TP)/(TP+TN+FP+FN)\n",
    "\n",
    "NPV = TN/(TN+FN)\n",
    "PPV = TP/(TP+FP)# Precision\n",
    "TPR = TP/(TP+FN)# Sensitivity, recall \n",
    "TNR = TN/(TN+FP)# Specificity \n",
    "\n",
    "ACC = (TP+TN)/(TP+FP+FN+TN)\n",
    "\n",
    "print(FNP, FPP, TNP, TPP, NPV, PPV, TPR, TNR, ACC)"
   ]
  },
  {
   "cell_type": "code",
   "execution_count": 27,
   "metadata": {},
   "outputs": [
    {
     "name": "stdout",
     "output_type": "stream",
     "text": [
      "[[2271862  100024]\n",
      " [      0   17314]]\n",
      "0.0 0.030780403741999016 0.963891555883801 0.005328040374199901 1.0 0.1475566312703472 1.0 0.9690547185490392 0.969219596258001\n"
     ]
    }
   ],
   "source": [
    "#testing the trained branch classifier\n",
    "y_testB=np.reshape(y_test_branch,np.size(X_test_dem,0)*nl)\n",
    "y_predB=np.reshape(y_predB,np.size(X_test_dem,0)*nl)\n",
    "\n",
    "y_predB1=np.copy(y_predB)\n",
    "\n",
    "y_predB1[y_predB1 >= 0.99] = 1\n",
    "y_predB1[y_predB1 < 0.99] = 0\n",
    "\n",
    "CM=confusion_matrix(y_testB, y_predB1)\n",
    "\n",
    "TN = CM[0][0]\n",
    "FN = CM[1][0]\n",
    "TP = CM[1][1]\n",
    "FP = CM[0][1]\n",
    "\n",
    "c=s*nb*2 \n",
    "TN=c-(TP+FP+FN)\n",
    "CM[0][0]=TN\n",
    "print(CM)\n",
    "\n",
    "FNP=(FN)/(TP+TN+FP+FN)\n",
    "FPP=(FP)/(TP+TN+FP+FN)\n",
    "TNP=(TN)/(TP+TN+FP+FN)\n",
    "TPP=(TP)/(TP+TN+FP+FN)\n",
    "\n",
    "NPV = TN/(TN+FN)\n",
    "PPV = TP/(TP+FP)\n",
    "TPR = TP/(TP+FN)\n",
    "TNR = TN/(TN+FP) \n",
    "\n",
    "ACC = (TP+TN)/(TP+FP+FN+TN)\n",
    "\n",
    "print(FNP, FPP, TNP, TPP, NPV, PPV, TPR, TNR, ACC)"
   ]
  },
  {
   "cell_type": "code",
   "execution_count": null,
   "metadata": {},
   "outputs": [],
   "source": []
  }
 ],
 "metadata": {
  "kernelspec": {
   "display_name": "Python 3",
   "language": "python",
   "name": "python3"
  },
  "language_info": {
   "codemirror_mode": {
    "name": "ipython",
    "version": 3
   },
   "file_extension": ".py",
   "mimetype": "text/x-python",
   "name": "python",
   "nbconvert_exporter": "python",
   "pygments_lexer": "ipython3",
   "version": "3.7.7"
  }
 },
 "nbformat": 4,
 "nbformat_minor": 2
}
